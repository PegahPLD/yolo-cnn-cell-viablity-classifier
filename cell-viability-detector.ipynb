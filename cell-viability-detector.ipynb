{
 "cells": [
  {
   "cell_type": "code",
   "execution_count": null,
   "id": "a15ce1c0-e659-415b-9bfd-f00bbe193028",
   "metadata": {},
   "outputs": [
    {
     "name": "stderr",
     "output_type": "stream",
     "text": [
      "C:\\Users\\19494\\anaconda3\\envs\\tfenv\\lib\\site-packages\\keras\\src\\layers\\convolutional\\base_conv.py:107: UserWarning: Do not pass an `input_shape`/`input_dim` argument to a layer. When using Sequential models, prefer using an `Input(shape)` object as the first layer in the model instead.\n",
      "  super().__init__(activity_regularizer=activity_regularizer, **kwargs)\n",
      "WARNING:absl:Compiled the loaded model, but the compiled metrics have yet to be built. `model.compile_metrics` will be empty until you train or evaluate the model.\n",
      "WARNING:absl:Error in loading the saved optimizer state. As a result, your model is starting with a freshly initialized optimizer.\n"
     ]
    },
    {
     "name": "stdout",
     "output_type": "stream",
     "text": [
      "\n",
      "0: 416x640 (no detections), 198.1ms\n",
      "Speed: 4.8ms preprocess, 198.1ms inference, 1.8ms postprocess per image at shape (1, 3, 416, 640)\n"
     ]
    }
   ],
   "source": [
    "from ultralytics import YOLO\n",
    "from tensorflow.keras.models import load_model\n",
    "from tensorflow.keras.preprocessing.image import img_to_array\n",
    "import numpy as np\n",
    "import cv2\n",
    "import os\n",
    "\n",
    "# --- Load models ---\n",
    "yolo_model = YOLO('yolov8n.pt')  # Use your trained YOLOv8 model\n",
    "cnn_model = load_model('astrocyte_live_dead_model.h5')   # Your trained CNN model\n",
    "\n",
    "# --- Parameters ---\n",
    "input_image_path = 'test.tif'\n",
    "confidence_threshold = 0.27\n",
    "cnn_input_size = (64, 64)  # Resize input for CNN\n",
    "class_labels = ['Dead', 'Live']\n",
    "\n",
    "# --- Load image ---\n",
    "image = cv2.imread(input_image_path)\n",
    "original = image.copy()\n",
    "\n",
    "# --- Run YOLOv8 prediction ---\n",
    "results = yolo_model.predict(source=image, conf=confidence_threshold, save=False)[0]\n",
    "boxes = results.boxes.data.cpu().numpy() if results.boxes is not None else []\n",
    "\n",
    "# --- Process each detection ---\n",
    "for box in boxes:\n",
    "    x1, y1, x2, y2, conf, cls = box\n",
    "    if conf < confidence_threshold:\n",
    "        continue\n",
    "\n",
    "    x1, y1, x2, y2 = map(int, [x1, y1, x2, y2])\n",
    "    cropped_cell = image[y1:y2, x1:x2]\n",
    "\n",
    "    # Skip if bounding box is invalid\n",
    "    if cropped_cell.size == 0:\n",
    "        continue\n",
    "\n",
    "    # --- Preprocess for CNN ---\n",
    "    cell_resized = cv2.resize(cropped_cell, cnn_input_size)\n",
    "    cell_array = img_to_array(cell_resized) / 255.0\n",
    "    cell_array = np.expand_dims(cell_array, axis=0)\n",
    "\n",
    "    # --- Predict with CNN ---\n",
    "    prediction = cnn_model.predict(cell_array, verbose=0)\n",
    "    label_idx = np.argmax(prediction)\n",
    "    label = class_labels[label_idx]\n",
    "\n",
    "    # --- Draw on image ---\n",
    "    cv2.rectangle(original, (x1, y1), (x2, y2), (0, 255, 0), 2)\n",
    "    cv2.putText(original, f'{label} ({conf:.2f})', (x1, y1 - 10),\n",
    "                cv2.FONT_HERSHEY_SIMPLEX, 0.5, (36, 255, 12), 1)\n",
    "\n",
    "# --- Display and save ---\n",
    "cv2.imwrite('output_results.jpg', original)\n",
    "cv2.imshow('Live/Dead Cell Detection', original)\n",
    "cv2.waitKey(0)\n",
    "cv2.destroyAllWindows()\n"
   ]
  },
  {
   "cell_type": "code",
   "execution_count": null,
   "id": "0788e606-6590-486a-8f33-fafc598b5c6e",
   "metadata": {},
   "outputs": [],
   "source": []
  }
 ],
 "metadata": {
  "kernelspec": {
   "display_name": "Python 3 (ipykernel)",
   "language": "python",
   "name": "python3"
  },
  "language_info": {
   "codemirror_mode": {
    "name": "ipython",
    "version": 3
   },
   "file_extension": ".py",
   "mimetype": "text/x-python",
   "name": "python",
   "nbconvert_exporter": "python",
   "pygments_lexer": "ipython3",
   "version": "3.10.16"
  }
 },
 "nbformat": 4,
 "nbformat_minor": 5
}
